{
 "cells": [
  {
   "cell_type": "code",
   "execution_count": 4,
   "id": "7acb1a59-50a4-4f7c-b58c-5dd7fb605ab3",
   "metadata": {},
   "outputs": [
    {
     "name": "stdin",
     "output_type": "stream",
     "text": [
      "Digite um número:  3\n",
      "Digite um número:  17\n"
     ]
    },
    {
     "name": "stdout",
     "output_type": "stream",
     "text": [
      "O maior número entre 3 e 17 é 17!\n"
     ]
    }
   ],
   "source": [
    "# Faça um Programa que peça dois números e imprima o maior deles.\n",
    "numero_1 = int(input('Digite um número: '))\n",
    "numero_2 = int(input('Digite um número: '))\n",
    "if numero_1 > numero_2:\n",
    "    salvar_numero = numero_1\n",
    "else: \n",
    "    salvar_numero = numero_2\n",
    "print(f'O maior número entre {numero_1} e {numero_2} é {salvar_numero}!')"
   ]
  },
  {
   "cell_type": "code",
   "execution_count": 10,
   "id": "a3ccdd06-b211-405b-b20a-e1bd8d1c1ef4",
   "metadata": {},
   "outputs": [
    {
     "name": "stdin",
     "output_type": "stream",
     "text": [
      "Digite um número:  -5465123\n"
     ]
    },
    {
     "name": "stdout",
     "output_type": "stream",
     "text": [
      "O número -5465123 é Negativo!\n"
     ]
    }
   ],
   "source": [
    "# Faça um Programa que peça um valor e mostre na tela se o valor é positivo ou negativo.\n",
    "numero_1 = int(input('Digite um número: '))\n",
    "if numero_1 > 0:\n",
    "    salvar_operador = 'Positivo'\n",
    "else: \n",
    "    salvar_operador = 'Negativo'\n",
    "if numero_1 == 0:\n",
    "    salvar_operador = 'Neutro'\n",
    "print(f'O número {numero_1} é {salvar_operador}!')"
   ]
  },
  {
   "cell_type": "code",
   "execution_count": 19,
   "id": "25c11549-6888-4630-9420-d1b274b097f3",
   "metadata": {},
   "outputs": [
    {
     "name": "stdin",
     "output_type": "stream",
     "text": [
      "Digite a 1º do aluno:  7\n",
      "Digite a 2º do aluno:  8\n"
     ]
    },
    {
     "name": "stdout",
     "output_type": "stream",
     "text": [
      "O aluno teve a média de 7.5 e foi Aprovado.\n"
     ]
    }
   ],
   "source": [
    "'''\n",
    "Faça um programa para a leitura de duas notas parciais de um aluno. \n",
    "O programa deve calcular a média alcançada por aluno e apresentar:\n",
    "A mensagem \"Aprovado\", se a média alcançada for maior ou igual a sete;\n",
    "A mensagem \"Reprovado\", se a média for menor do que sete;\n",
    "A mensagem \"Aprovado com Distinção\", se a média for igual a dez.\n",
    "'''\n",
    "nota = []\n",
    "for n in range(1,3):\n",
    "    nota.append(int(input(f'Digite a {n}º do aluno: ')))\n",
    "media = sum(nota)/len(nota)\n",
    "if media > 7:\n",
    "    resultado = 'Aprovado'\n",
    "elif media < 7:\n",
    "    resultado = 'Reprovado'\n",
    "if media >= 10: \n",
    "    resultado = 'Aprovado com Distinção'\n",
    "print(f'O aluno teve a média de {media} e foi {resultado}.')"
   ]
  },
  {
   "cell_type": "code",
   "execution_count": 21,
   "id": "81add006-7c37-4bf4-bce9-0d633a4e2bf9",
   "metadata": {},
   "outputs": [
    {
     "name": "stdin",
     "output_type": "stream",
     "text": [
      "Digite um número:  1\n",
      "Digite um número:  2\n",
      "Digite um número:  3\n"
     ]
    },
    {
     "name": "stdout",
     "output_type": "stream",
     "text": [
      "O maior número é 3.\n"
     ]
    }
   ],
   "source": [
    "# Faça um Programa que leia três números e mostre o maior deles.\n",
    "numero = []\n",
    "for n in range(0,3):\n",
    "    numero.append(int(input('Digite um número: ')))\n",
    "maior_numero = max(numero)\n",
    "print(f'O maior número é {maior_numero}.')"
   ]
  },
  {
   "cell_type": "code",
   "execution_count": 55,
   "id": "994de1d6-89d0-4d57-a614-e1dd4fc6abe5",
   "metadata": {},
   "outputs": [
    {
     "name": "stdin",
     "output_type": "stream",
     "text": [
      "Digite um número:  1\n",
      "Digite um número:  2\n",
      "Digite um número:  3\n"
     ]
    },
    {
     "name": "stdout",
     "output_type": "stream",
     "text": [
      "Em ordem decrescente: [3, 2, 1]\n"
     ]
    }
   ],
   "source": [
    "# Faça um Programa que leia três números e mostre-os em ordem decrescente.\n",
    "numero = []\n",
    "for n in range(0,3):\n",
    "    numero.append(int(input('Digite um número: ')))\n",
    "numero = sorted(numero)\n",
    "print(f'Em ordem decrescente: {list(reversed(numero))}')"
   ]
  },
  {
   "cell_type": "code",
   "execution_count": null,
   "id": "8f18ae0c-568d-4e5a-ade6-e5f7b6774b83",
   "metadata": {},
   "outputs": [],
   "source": [
    "'''\n",
    "O Hipermercado Tabajara está com uma promoção de carnes que é imperdível. Confira:\n",
    "                      Até 5 Kg           Acima de 5 Kg\n",
    "File Duplo      R$ 4,90 por Kg          R$ 5,80 por Kg\n",
    "Alcatra         R$ 5,90 por Kg          R$ 6,80 por Kg\n",
    "Picanha         R$ 6,90 por Kg          R$ 7,80 por Kg\n",
    "Para atender a todos os clientes, cada cliente poderá levar apenas um dos tipos de carne da \n",
    "promoção, porém não há limites para a quantidade de carne por cliente. Se compra for feita no \n",
    "cartão Tabajara o cliente receberá ainda um desconto de 5% sobre o total da compra. Escreva um \n",
    "programa que peça o tipo e a quantidade de carne comprada pelo usuário e gere um cupom fiscal, \n",
    "contendo as informações da compra: tipo e quantidade de carne, preço total, tipo de pagamento, \n",
    "valor do desconto e valor a pagar.\n",
    "'''\n",
    "\n",
    "def preco_carne(qntd_carne,opcao):\n",
    "    if qntd_carne < 5:\n",
    "        match opcao:\n",
    "            case 1:\n",
    "                preco_carne = 4.90\n",
    "            case 2:\n",
    "                preco_carne = 5.90\n",
    "            case 3:\n",
    "                preco_carne = 6.90\n",
    "    else:\n",
    "        match opcao:\n",
    "            case 1:\n",
    "                preco_carne = 5.80\n",
    "            case 2:\n",
    "                preco_carne = 6.80\n",
    "            case 3:\n",
    "                preco_carne = 7.80\n",
    "    return preco_carne\n",
    "\n",
    "print('(1)File Duplo\\n(2)Alcatra\\n(3)Picanha')\n",
    "opcao = int(input('Escolha qual tipo de carne: '))\n",
    "match opcao:\n",
    "    case 1:\n",
    "        tipo = 'File Duplo'\n",
    "        qntd_carne = int(input('Escolha quantos KG: '))\n",
    "        preco_carne = preco_carne(qntd_carne,opcao)\n",
    "    case 2:\n",
    "        tipo = 'Alcatra'\n",
    "        qntd_carne = int(input('Escolha quantos KG: '))\n",
    "        preco_carne = preco_carne(qntd_carne,opcao)\n",
    "    case 3:\n",
    "        tipo = 'Picanha'\n",
    "        qntd_carne = int(input('Escolha quantos KG: '))\n",
    "        preco_carne = preco_carne(qntd_carne,opcao)\n",
    "    case _:\n",
    "        print('Erro!')\n",
    "print('\\n(1)Debito\\n(2)Credito\\n(3)Cartão Tabajara')\n",
    "pagamento = int(input('Qual forma de pagamento: '))\n",
    "match pagamento:\n",
    "    case 1:\n",
    "        pagamento = 'Debito'\n",
    "        desconto = 0\n",
    "    case 2:\n",
    "        pagamento = 'Credito'\n",
    "        desconto = 0\n",
    "    case 3:\n",
    "        pagamento = 'Cartão Tabajara'\n",
    "        desconto = 0.05\n",
    "    case _: \n",
    "        print('Erro!')\n",
    "total_preco = qntd_carne * preco_carne\n",
    "valor_desconto = desconto * total_preco\n",
    "valor_pagar = total_preco - valor_desconto\n",
    "print(f'\\nTipo: {tipo}')\n",
    "print(f'Quantidade: {qntd_carne}kg')\n",
    "print(f'Preço Total: R${total_preco}')\n",
    "print(f'Tipo Pagamento: {pagamento}')\n",
    "print(f'Valor Desconto: {valor_desconto}')\n",
    "print(f'Valor a Pagar: {valor_pagar}')"
   ]
  },
  {
   "cell_type": "code",
   "execution_count": null,
   "id": "f0439015-c19b-4641-8609-49334db2d6e0",
   "metadata": {},
   "outputs": [],
   "source": []
  }
 ],
 "metadata": {
  "kernelspec": {
   "display_name": "anaconda-2022.05-py39",
   "language": "python",
   "name": "conda-env-anaconda-2022.05-py39-py"
  },
  "language_info": {
   "codemirror_mode": {
    "name": "ipython",
    "version": 3
   },
   "file_extension": ".py",
   "mimetype": "text/x-python",
   "name": "python",
   "nbconvert_exporter": "python",
   "pygments_lexer": "ipython3",
   "version": "3.9.12"
  }
 },
 "nbformat": 4,
 "nbformat_minor": 5
}
