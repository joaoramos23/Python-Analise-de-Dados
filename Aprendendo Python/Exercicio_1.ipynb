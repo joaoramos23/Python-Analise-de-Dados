{
  "nbformat": 4,
  "nbformat_minor": 0,
  "metadata": {
    "colab": {
      "provenance": []
    },
    "kernelspec": {
      "name": "python3",
      "display_name": "Python 3"
    },
    "language_info": {
      "name": "python"
    }
  },
  "cells": [
    {
      "cell_type": "code",
      "source": [
        "# Faça um Programa que mostre a mensagem \"Alo mundo\" na tela.\n",
        "print('Alo mundo')"
      ],
      "metadata": {
        "colab": {
          "base_uri": "https://localhost:8080/"
        },
        "id": "89Un36L_tiBt",
        "outputId": "b93d5406-c20a-40b5-a023-9a93525e0bb4"
      },
      "execution_count": 37,
      "outputs": [
        {
          "output_type": "stream",
          "name": "stdout",
          "text": [
            "Alo mundo\n"
          ]
        }
      ]
    },
    {
      "cell_type": "code",
      "source": [
        "# Faça um Programa que peça um número e então mostre a mensagem O número informado foi [número].\n",
        "numero = int(input('Digite um número: '))\n",
        "print(f'O número informado foi {numero}.')"
      ],
      "metadata": {
        "colab": {
          "base_uri": "https://localhost:8080/"
        },
        "id": "R0YF93fGtupG",
        "outputId": "fe487a87-0e93-4da1-8e83-2e5dad3fbb11"
      },
      "execution_count": 39,
      "outputs": [
        {
          "output_type": "stream",
          "name": "stdout",
          "text": [
            "Digite um número: 151649872\n",
            "O número informado foi 151649872.\n"
          ]
        }
      ]
    },
    {
      "cell_type": "code",
      "source": [
        "# Faça um Programa que peça dois números e imprima a soma.\n",
        "numero_1 = int(input('Digite um número: '))\n",
        "numero_2 = int(input('Digite um número: '))\n",
        "soma = numero_1 + numero_2\n",
        "print(f'A soma de {numero_1} + {numero_2} = {soma}')"
      ],
      "metadata": {
        "colab": {
          "base_uri": "https://localhost:8080/"
        },
        "id": "8HooOaX_t-pW",
        "outputId": "1a1b8e0b-1758-4f6b-8e59-c0e543322317"
      },
      "execution_count": 40,
      "outputs": [
        {
          "output_type": "stream",
          "name": "stdout",
          "text": [
            "Digite um número: 8\n",
            "Digite um número: 8\n",
            "A soma de 8 + 8 = 16\n"
          ]
        }
      ]
    },
    {
      "cell_type": "code",
      "source": [
        "# Faça um Programa que peça as 4 notas bimestrais e mostre a média.\n",
        "\n",
        "nota = []\n",
        "for n in range(0,4):\n",
        "  nota.append(int(input(f'Digite a {n + 1}º nota: ')))\n",
        "soma_nota = sum(nota)\n",
        "total_nota = len(nota)\n",
        "media = soma_nota / total_nota\n",
        "print(f'A media é {media}.')"
      ],
      "metadata": {
        "colab": {
          "base_uri": "https://localhost:8080/"
        },
        "id": "fspBOn-WuWB0",
        "outputId": "fc40a01a-f4fe-49f3-8d70-1e2c09d3884e"
      },
      "execution_count": 89,
      "outputs": [
        {
          "output_type": "stream",
          "name": "stdout",
          "text": [
            "Digite a 1º nota: 4\n",
            "Digite a 2º nota: 6\n",
            "Digite a 3º nota: 3\n",
            "Digite a 4º nota: 2\n",
            "A media é 3.75.\n"
          ]
        }
      ]
    },
    {
      "cell_type": "code",
      "source": [
        "# Faça um Programa que converta metros para centímetros.\n",
        "\n",
        "metro = float(input('Informe a quantidade em metros: '))\n",
        "conver = metro * 100\n",
        "print(f'{metro} m são {conver} cm.')"
      ],
      "metadata": {
        "colab": {
          "base_uri": "https://localhost:8080/"
        },
        "id": "f5lfoNNczBWp",
        "outputId": "9d50930d-6a08-4791-a717-c18048494da9"
      },
      "execution_count": 88,
      "outputs": [
        {
          "output_type": "stream",
          "name": "stdout",
          "text": [
            "Informe a quantidade em metros: 1.35\n",
            "1.35m são 135.0cm.\n"
          ]
        }
      ]
    },
    {
      "cell_type": "code",
      "source": [
        "# Faça um Programa que peça o raio de um círculo, calcule e mostre sua área.\n",
        "\n",
        "raio = float(input('Informe o raio de um círculo: '))\n",
        "area = (raio ** 2) * 3.14\n",
        "print(f'A área é: {area}')"
      ],
      "metadata": {
        "colab": {
          "base_uri": "https://localhost:8080/"
        },
        "id": "4YEVW4v8zoju",
        "outputId": "eeba5713-2bff-46d3-81a7-77fea659d56f"
      },
      "execution_count": 98,
      "outputs": [
        {
          "output_type": "stream",
          "name": "stdout",
          "text": [
            "Informe o raio de um círculo: 3\n",
            "A área é: 28.26\n"
          ]
        }
      ]
    },
    {
      "cell_type": "code",
      "source": [
        "'''\n",
        "  Faça um programa para uma loja de tintas. O programa deverá pedir o tamanho em metros quadrados \n",
        "  da área a ser pintada. Considere que a cobertura da tinta é de 1 litro para cada 3 metros quadrados\n",
        "  e que a tinta é vendida em latas de 18 litros, que custam R$ 80,00. Informe ao usuário a quantidades\n",
        "  de latas de tinta a serem compradas e o preço total.\n",
        "'''\n",
        "\n",
        "metro = float(input('Tamanho da área a ser pintada em m²: '))\n",
        "metro_cal = metro\n",
        "lata_metro = 18 * 3\n",
        "qntd_lata = 0\n",
        "while metro_cal > 0:\n",
        "  metro_cal = metro_cal - lata_metro\n",
        "  qntd_lata = qntd_lata + 1\n",
        "  if metro_cal < 0:\n",
        "    break\n",
        "print(f'Pra pintar {metro} m² irá precisar de {qntd_lata} latas.')\n"
      ],
      "metadata": {
        "colab": {
          "base_uri": "https://localhost:8080/"
        },
        "id": "yshp-vGZ0-2N",
        "outputId": "3789f577-c18a-4c4c-f333-7743a6d239fa"
      },
      "execution_count": 106,
      "outputs": [
        {
          "output_type": "stream",
          "name": "stdout",
          "text": [
            "Tamanho da área a ser pintada em m²: 108\n",
            "Pra pintar 108.0 m² irá precisar de 2 latas.\n"
          ]
        }
      ]
    },
    {
      "cell_type": "code",
      "source": [
        "'''\n",
        "Faça um Programa para uma loja de tintas. O programa deverá pedir o tamanho em metros quadrados da área a ser pintada. \n",
        "Considere que a cobertura da tinta é de 1 litro para cada 6 metros quadrados e que a tinta é vendida em latas de 18 litros, \n",
        "que custam R$ 80,00 ou em galões de 3,6 litros, que custam R$ 25,00.\n",
        "Informe ao usuário as quantidades de tinta a serem compradas e os respectivos preços em 3 situações:\n",
        "comprar apenas latas de 18 litros;\n",
        "comprar apenas galões de 3,6 litros;\n",
        "misturar latas e galões, de forma que o desperdício de tinta seja menor. Acrescente 10% de folga e sempre arredonde os valores \n",
        "para cima, isto é, considere latas cheias.\n",
        "'''\n",
        "\n",
        "metro = float(input('Tamanho da área a ser pintada em m²: '))\n",
        "metro_cal = metro * 1.1\n",
        "lata_metro = 18 * 6\n",
        "galao_metro = 3.6 * 6\n",
        "qntd_lata = 0\n",
        "qntd_galao = 0\n",
        "while metro_cal > 0:\n",
        "  if metro_cal < galao_metro * 3:\n",
        "    metro_cal = metro_cal - galao_metro\n",
        "    qntd_galao = qntd_galao + 1\n",
        "  else:\n",
        "    metro_cal = metro_cal - lata_metro\n",
        "    qntd_lata = qntd_lata + 1\n",
        "  if metro_cal < 0:\n",
        "    break\n",
        "print(f'Pra pintar {metro} m² irá precisar de {qntd_galao} galões e de {qntd_lata} latas.')\n"
      ],
      "metadata": {
        "colab": {
          "base_uri": "https://localhost:8080/"
        },
        "id": "D1AGuR6y4hOo",
        "outputId": "84b81991-b825-4306-9bc7-f72762ddd84b"
      },
      "execution_count": 124,
      "outputs": [
        {
          "output_type": "stream",
          "name": "stdout",
          "text": [
            "Tamanho da área a ser pintada em m²: 185\n",
            "Pra pintar 185.0 m² irá precisar de 0 galões e de 2 latas.\n"
          ]
        }
      ]
    }
  ]
}